{
  "nbformat": 4,
  "nbformat_minor": 0,
  "metadata": {
    "colab": {
      "provenance": [],
      "authorship_tag": "ABX9TyOzN9tt+Cd/iNnQMzwCX1D4",
      "include_colab_link": true
    },
    "kernelspec": {
      "name": "python3",
      "display_name": "Python 3"
    },
    "language_info": {
      "name": "python"
    }
  },
  "cells": [
    {
      "cell_type": "markdown",
      "metadata": {
        "id": "view-in-github",
        "colab_type": "text"
      },
      "source": [
        "<a href=\"https://colab.research.google.com/github/Elvis-Onyango/Ai-health-prediction/blob/main/neuralnet.ipynb\" target=\"_parent\"><img src=\"https://colab.research.google.com/assets/colab-badge.svg\" alt=\"Open In Colab\"/></a>"
      ]
    },
    {
      "cell_type": "code",
      "execution_count": null,
      "metadata": {
        "id": "h7z8r9C3GEVY"
      },
      "outputs": [],
      "source": [
        "import torch\n",
        "import torch.nn as nn\n",
        "import torch.optim as optim\n",
        "import seaborn as sns\n",
        "import matplotlib.pyplot as plt"
      ]
    },
    {
      "cell_type": "code",
      "source": [
        "# Inputs\n",
        "X = torch.tensor([[0.0, 0.0],\n",
        "                  [0.0, 1.0],\n",
        "                  [1.0, 0.0],\n",
        "                  [1.0, 1.0]], requires_grad=False)\n",
        "\n",
        "# Targets\n",
        "y = torch.tensor([[0.0],\n",
        "                  [1.0],\n",
        "                  [1.0],\n",
        "                  [0.0]], requires_grad=False)"
      ],
      "metadata": {
        "id": "iKdpq1UpGOI0"
      },
      "execution_count": null,
      "outputs": []
    },
    {
      "cell_type": "code",
      "source": [
        "# Define the neural network structure\n",
        "class NeuralNet(nn.Module):\n",
        "    def __init__(self, input_size, hidden_size, output_size):\n",
        "        super(NeuralNet, self).__init__()\n",
        "        # Hidden layer with ReLU activation\n",
        "        self.fc1 = nn.Linear(input_size, hidden_size)\n",
        "        # Output layer with Sigmoid activation\n",
        "        self.fc2 = nn.Linear(hidden_size, output_size)\n",
        "\n",
        "    def forward(self, x):\n",
        "        x = torch.relu(self.fc1(x))  # ReLU activation after first layer\n",
        "        x = torch.sigmoid(self.fc2(x))  # Sigmoid activation after second layer\n",
        "        return x"
      ],
      "metadata": {
        "id": "JgRd5wtkGYjB"
      },
      "execution_count": null,
      "outputs": []
    },
    {
      "cell_type": "code",
      "source": [
        "model = NeuralNet(input_size=2, hidden_size=5, output_size=1)\n",
        "criterion = nn.BCELoss()  # Binary Cross-Entropy loss\n",
        "optimizer = optim.Adam(model.parameters(), lr=0.1)"
      ],
      "metadata": {
        "id": "Yl5KyNOhGbLd"
      },
      "execution_count": null,
      "outputs": []
    },
    {
      "cell_type": "code",
      "source": [
        "# Training loop\n",
        "losses = []\n",
        "for epoch in range(10000):\n",
        "    # Forward pass: compute predicted y by passing x to the model\n",
        "    outputs = model(X)\n",
        "\n",
        "    # Compute the loss\n",
        "    loss = criterion(outputs, y)\n",
        "    losses.append(loss.item())\n",
        "\n",
        "    #compute gradients\n",
        "    optimizer.zero_grad()  # Clear previous gradients\n",
        "    loss.backward()  # Backpropagation\n",
        "\n",
        "    # Update weights\n",
        "    optimizer.step()\n",
        "\n",
        "    # Print the loss every 1000 epochs\n",
        "    if epoch % 1000 == 0:\n",
        "        print(f\"Epoch {epoch} - Loss: {loss.item():.4f}\")"
      ],
      "metadata": {
        "colab": {
          "base_uri": "https://localhost:8080/"
        },
        "id": "wvKkp1CsGg0e",
        "outputId": "1752822c-498f-4dd6-93b6-0e605f86b301"
      },
      "execution_count": null,
      "outputs": [
        {
          "output_type": "stream",
          "name": "stdout",
          "text": [
            "Epoch 0 - Loss: 0.7309\n",
            "Epoch 1000 - Loss: 0.0002\n",
            "Epoch 2000 - Loss: 0.0001\n",
            "Epoch 3000 - Loss: 0.0000\n",
            "Epoch 4000 - Loss: 0.0000\n",
            "Epoch 5000 - Loss: 0.0000\n",
            "Epoch 6000 - Loss: 0.0000\n",
            "Epoch 7000 - Loss: 0.0000\n",
            "Epoch 8000 - Loss: 0.0000\n",
            "Epoch 9000 - Loss: 0.0000\n"
          ]
        }
      ]
    },
    {
      "cell_type": "code",
      "source": [
        "# Test the model\n",
        "with torch.no_grad():  # No need to track gradients during testing\n",
        "    predictions = model(X)\n",
        "    print(\"\\nPredictions:\")\n",
        "    print(predictions.round())  # round predictions to get binary output"
      ],
      "metadata": {
        "colab": {
          "base_uri": "https://localhost:8080/"
        },
        "id": "0edtQMcYG2Qa",
        "outputId": "6963eaa0-ced2-4f43-98c3-a2af260c40d4"
      },
      "execution_count": null,
      "outputs": [
        {
          "output_type": "stream",
          "name": "stdout",
          "text": [
            "\n",
            "Predictions:\n",
            "tensor([[0.],\n",
            "        [1.],\n",
            "        [1.],\n",
            "        [0.]])\n"
          ]
        }
      ]
    },
    {
      "cell_type": "code",
      "source": [
        "# Normalize losses using min-max scaling (range 0 to 1)\n",
        "min_loss = min(losses)\n",
        "max_loss = max(losses)\n",
        "normalized_losses = [(l - min_loss) / (max_loss - min_loss) for l in losses]\n"
      ],
      "metadata": {
        "id": "Bt6FsSXCJqUC"
      },
      "execution_count": null,
      "outputs": []
    },
    {
      "cell_type": "code",
      "source": [
        "# Plot the normalized loss values over epochs\n",
        "sns.set(style=\"darkgrid\")\n",
        "plt.figure(figsize=(10,6))\n",
        "sns.lineplot(x=range(len(normalized_losses)), y=normalized_losses)\n",
        "plt.title('Loss Curve - Normalized', fontsize=16)\n",
        "plt.xlabel('Epochs', fontsize=12)\n",
        "plt.ylabel('Normalized Loss', fontsize=12)\n",
        "plt.show()"
      ],
      "metadata": {
        "colab": {
          "base_uri": "https://localhost:8080/",
          "height": 575
        },
        "id": "DWnMh2HLJBhx",
        "outputId": "3d928d40-108b-4c84-b85d-24e660449cbb"
      },
      "execution_count": null,
      "outputs": [
        {
          "output_type": "display_data",
          "data": {
            "text/plain": [
              "<Figure size 1000x600 with 1 Axes>"
            ],
            "image/png": "[encoded data removed]"
          },
          "metadata": {}
        }
      ]
    }
  ]
}